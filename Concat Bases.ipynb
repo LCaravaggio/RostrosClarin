{
 "cells": [
  {
   "cell_type": "code",
   "execution_count": 1,
   "metadata": {},
   "outputs": [],
   "source": [
    "import pandas as pd"
   ]
  },
  {
   "cell_type": "code",
   "execution_count": 6,
   "metadata": {},
   "outputs": [],
   "source": [
    "names=[\"unnamed\", \"file\", \"text\"]\n",
    "df1=pd.read_csv(\"C:/data/tapas/Corpus Clarin hasta 31-8-1950.csv\", sep=\";\", encoding=\"latin-1\",  names=names)\n",
    "df2=pd.read_csv(\"C:/data/tapas/Corpus Clarin hasta 31-12-1959.csv\", sep=\";\", encoding=\"latin-1\",  names=names)\n",
    "df3=pd.read_csv(\"C:/data/tapas/Corpus Clarin hasta 31-12-1979.csv\", sep=\";\", encoding=\"latin-1\",  names=names)\n",
    "df4=pd.read_csv(\"C:/data/tapas/Corpus Clarin hasta 31-12-1989.csv\", sep=\";\", encoding=\"latin-1\",  names=names)\n",
    "df5=pd.read_csv(\"C:/data/tapas/Corpus Clarin hasta 31-12-2009.csv\", sep=\";\", encoding=\"latin-1\",  names=names)\n",
    "df6=pd.read_csv(\"C:/data/tapas/Corpus Clarin hasta 19-06-2021.csv\", sep=\";\", encoding=\"latin-1\",  names=names)"
   ]
  },
  {
   "cell_type": "code",
   "execution_count": 8,
   "metadata": {},
   "outputs": [],
   "source": [
    "frames = [df1, df2, df3, df4, df5, df6]"
   ]
  },
  {
   "cell_type": "code",
   "execution_count": 9,
   "metadata": {},
   "outputs": [],
   "source": [
    "df=pd.concat(frames)"
   ]
  },
  {
   "cell_type": "code",
   "execution_count": 12,
   "metadata": {},
   "outputs": [],
   "source": [
    "df.to_csv(path_or_buf=\"C:/data/tapas/Clarin.csv\", sep=\";\", encoding=\"latin-1\")"
   ]
  }
 ],
 "metadata": {
  "kernelspec": {
   "display_name": "Python 3",
   "language": "python",
   "name": "python3"
  },
  "language_info": {
   "codemirror_mode": {
    "name": "ipython",
    "version": 3
   },
   "file_extension": ".py",
   "mimetype": "text/x-python",
   "name": "python",
   "nbconvert_exporter": "python",
   "pygments_lexer": "ipython3",
   "version": "3.7.6"
  }
 },
 "nbformat": 4,
 "nbformat_minor": 4
}
