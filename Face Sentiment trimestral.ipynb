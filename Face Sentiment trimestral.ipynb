{
 "cells": [
  {
   "cell_type": "code",
   "execution_count": 1,
   "metadata": {},
   "outputs": [],
   "source": [
    "import json\n",
    "import pandas as pd\n",
    "import numpy as np\n",
    "import matplotlib.pyplot as plt\n",
    "from sklearn.decomposition import PCA"
   ]
  },
  {
   "cell_type": "code",
   "execution_count": 2,
   "metadata": {},
   "outputs": [],
   "source": [
    "with open(\"C:/Users/PC/Clarin/rostros/Clarin.json\", 'r') as f:\n",
    "    db1= json.load(f)\n",
    "    \n",
    "with open(\"C:/Users/PC/Clarin/rostros/Lanac.json\", 'r') as f:\n",
    "    db2= json.load(f)"
   ]
  },
  {
   "cell_type": "code",
   "execution_count": 3,
   "metadata": {},
   "outputs": [],
   "source": [
    "df1 = pd.DataFrame(db1)\n",
    "df2 = pd.DataFrame(db2)"
   ]
  },
  {
   "cell_type": "code",
   "execution_count": 4,
   "metadata": {},
   "outputs": [],
   "source": [
    "df1=pd.concat([df1.drop(['emotions'], axis=1), df1['emotions'].apply(pd.Series)], axis=1)\n",
    "df2=pd.concat([df2.drop(['emotions'], axis=1), df2['emotions'].apply(pd.Series)], axis=1)"
   ]
  },
  {
   "cell_type": "code",
   "execution_count": 5,
   "metadata": {},
   "outputs": [],
   "source": [
    "frames = [df1, df2]\n",
    "df = pd.concat(frames)"
   ]
  },
  {
   "cell_type": "code",
   "execution_count": 6,
   "metadata": {},
   "outputs": [],
   "source": [
    "df[\"n\"]=1"
   ]
  },
  {
   "cell_type": "code",
   "execution_count": 7,
   "metadata": {},
   "outputs": [],
   "source": [
    "df['year'] = df['archivo'].astype(str).str[0:4]\n",
    "df['month'] = df['archivo'].astype(str).str[4:6]\n",
    "df['day'] = df['archivo'].astype(str).str[6:8]\n",
    "df['fecha'] = pd.to_datetime(df['month']+\"/\"+df['day']+\"/\"+df['year'], format='%m/%d/%Y')"
   ]
  },
  {
   "cell_type": "code",
   "execution_count": 8,
   "metadata": {},
   "outputs": [],
   "source": [
    "trimestral=df.resample('Q', on='fecha').sum()"
   ]
  },
  {
   "cell_type": "code",
   "execution_count": 9,
   "metadata": {},
   "outputs": [],
   "source": [
    "sent = [\"angry\",\"disgust\",\"fear\",\"happy\",\"sad\",\"surprise\",\"neutral\"]\n",
    "trimestral['Sum'] = trimestral[sent].mean(axis = 1)"
   ]
  },
  {
   "cell_type": "code",
   "execution_count": 10,
   "metadata": {},
   "outputs": [],
   "source": [
    "trimestral_n=pd.DataFrame()\n",
    "\n",
    "for a in sent: \n",
    "    trimestral_n[a]=trimestral[a]/trimestral[\"n\"]\n",
    "\n",
    "trimestral_n[\"n\"]=trimestral[\"n\"]"
   ]
  },
  {
   "cell_type": "code",
   "execution_count": 11,
   "metadata": {},
   "outputs": [],
   "source": [
    "sent=[\"angry\",\"disgust\",\"fear\",\"happy\",\"sad\",\"surprise\",\"neutral\"]\n",
    "trimestral_n.where(trimestral_n >= 0.005, 0, inplace=True)"
   ]
  },
  {
   "cell_type": "code",
   "execution_count": 12,
   "metadata": {},
   "outputs": [
    {
     "data": {
      "text/html": [
       "<div>\n",
       "<style scoped>\n",
       "    .dataframe tbody tr th:only-of-type {\n",
       "        vertical-align: middle;\n",
       "    }\n",
       "\n",
       "    .dataframe tbody tr th {\n",
       "        vertical-align: top;\n",
       "    }\n",
       "\n",
       "    .dataframe thead th {\n",
       "        text-align: right;\n",
       "    }\n",
       "</style>\n",
       "<table border=\"1\" class=\"dataframe\">\n",
       "  <thead>\n",
       "    <tr style=\"text-align: right;\">\n",
       "      <th></th>\n",
       "      <th>angry</th>\n",
       "      <th>disgust</th>\n",
       "      <th>fear</th>\n",
       "      <th>happy</th>\n",
       "      <th>sad</th>\n",
       "      <th>surprise</th>\n",
       "      <th>neutral</th>\n",
       "      <th>n</th>\n",
       "    </tr>\n",
       "    <tr>\n",
       "      <th>fecha</th>\n",
       "      <th></th>\n",
       "      <th></th>\n",
       "      <th></th>\n",
       "      <th></th>\n",
       "      <th></th>\n",
       "      <th></th>\n",
       "      <th></th>\n",
       "      <th></th>\n",
       "    </tr>\n",
       "  </thead>\n",
       "  <tbody>\n",
       "    <tr>\n",
       "      <th>1945-09-30</th>\n",
       "      <td>0.115926</td>\n",
       "      <td>0.000000</td>\n",
       "      <td>0.159136</td>\n",
       "      <td>0.127284</td>\n",
       "      <td>0.316543</td>\n",
       "      <td>0.034568</td>\n",
       "      <td>0.244074</td>\n",
       "      <td>81</td>\n",
       "    </tr>\n",
       "    <tr>\n",
       "      <th>1945-12-31</th>\n",
       "      <td>0.128879</td>\n",
       "      <td>0.000000</td>\n",
       "      <td>0.167328</td>\n",
       "      <td>0.158103</td>\n",
       "      <td>0.292759</td>\n",
       "      <td>0.023966</td>\n",
       "      <td>0.227414</td>\n",
       "      <td>232</td>\n",
       "    </tr>\n",
       "    <tr>\n",
       "      <th>1946-03-31</th>\n",
       "      <td>0.189086</td>\n",
       "      <td>0.000000</td>\n",
       "      <td>0.136171</td>\n",
       "      <td>0.241543</td>\n",
       "      <td>0.316229</td>\n",
       "      <td>0.019143</td>\n",
       "      <td>0.096343</td>\n",
       "      <td>175</td>\n",
       "    </tr>\n",
       "    <tr>\n",
       "      <th>1946-06-30</th>\n",
       "      <td>0.202458</td>\n",
       "      <td>0.000000</td>\n",
       "      <td>0.144190</td>\n",
       "      <td>0.178324</td>\n",
       "      <td>0.323575</td>\n",
       "      <td>0.009777</td>\n",
       "      <td>0.138994</td>\n",
       "      <td>179</td>\n",
       "    </tr>\n",
       "    <tr>\n",
       "      <th>1946-09-30</th>\n",
       "      <td>0.123622</td>\n",
       "      <td>0.000000</td>\n",
       "      <td>0.124649</td>\n",
       "      <td>0.234811</td>\n",
       "      <td>0.362216</td>\n",
       "      <td>0.019405</td>\n",
       "      <td>0.132865</td>\n",
       "      <td>185</td>\n",
       "    </tr>\n",
       "    <tr>\n",
       "      <th>...</th>\n",
       "      <td>...</td>\n",
       "      <td>...</td>\n",
       "      <td>...</td>\n",
       "      <td>...</td>\n",
       "      <td>...</td>\n",
       "      <td>...</td>\n",
       "      <td>...</td>\n",
       "      <td>...</td>\n",
       "    </tr>\n",
       "    <tr>\n",
       "      <th>2020-09-30</th>\n",
       "      <td>0.175971</td>\n",
       "      <td>0.000000</td>\n",
       "      <td>0.084628</td>\n",
       "      <td>0.304988</td>\n",
       "      <td>0.156019</td>\n",
       "      <td>0.032782</td>\n",
       "      <td>0.241127</td>\n",
       "      <td>417</td>\n",
       "    </tr>\n",
       "    <tr>\n",
       "      <th>2020-12-31</th>\n",
       "      <td>0.182884</td>\n",
       "      <td>0.000000</td>\n",
       "      <td>0.079488</td>\n",
       "      <td>0.307395</td>\n",
       "      <td>0.157930</td>\n",
       "      <td>0.038116</td>\n",
       "      <td>0.231767</td>\n",
       "      <td>430</td>\n",
       "    </tr>\n",
       "    <tr>\n",
       "      <th>2021-03-31</th>\n",
       "      <td>0.199735</td>\n",
       "      <td>0.000000</td>\n",
       "      <td>0.100177</td>\n",
       "      <td>0.269294</td>\n",
       "      <td>0.174062</td>\n",
       "      <td>0.026490</td>\n",
       "      <td>0.225143</td>\n",
       "      <td>453</td>\n",
       "    </tr>\n",
       "    <tr>\n",
       "      <th>2021-06-30</th>\n",
       "      <td>0.180366</td>\n",
       "      <td>0.000000</td>\n",
       "      <td>0.074796</td>\n",
       "      <td>0.291183</td>\n",
       "      <td>0.169677</td>\n",
       "      <td>0.027032</td>\n",
       "      <td>0.252452</td>\n",
       "      <td>465</td>\n",
       "    </tr>\n",
       "    <tr>\n",
       "      <th>2021-09-30</th>\n",
       "      <td>0.239167</td>\n",
       "      <td>0.010833</td>\n",
       "      <td>0.061667</td>\n",
       "      <td>0.257500</td>\n",
       "      <td>0.220000</td>\n",
       "      <td>0.044167</td>\n",
       "      <td>0.165833</td>\n",
       "      <td>12</td>\n",
       "    </tr>\n",
       "  </tbody>\n",
       "</table>\n",
       "<p>305 rows × 8 columns</p>\n",
       "</div>"
      ],
      "text/plain": [
       "               angry   disgust      fear     happy       sad  surprise  \\\n",
       "fecha                                                                    \n",
       "1945-09-30  0.115926  0.000000  0.159136  0.127284  0.316543  0.034568   \n",
       "1945-12-31  0.128879  0.000000  0.167328  0.158103  0.292759  0.023966   \n",
       "1946-03-31  0.189086  0.000000  0.136171  0.241543  0.316229  0.019143   \n",
       "1946-06-30  0.202458  0.000000  0.144190  0.178324  0.323575  0.009777   \n",
       "1946-09-30  0.123622  0.000000  0.124649  0.234811  0.362216  0.019405   \n",
       "...              ...       ...       ...       ...       ...       ...   \n",
       "2020-09-30  0.175971  0.000000  0.084628  0.304988  0.156019  0.032782   \n",
       "2020-12-31  0.182884  0.000000  0.079488  0.307395  0.157930  0.038116   \n",
       "2021-03-31  0.199735  0.000000  0.100177  0.269294  0.174062  0.026490   \n",
       "2021-06-30  0.180366  0.000000  0.074796  0.291183  0.169677  0.027032   \n",
       "2021-09-30  0.239167  0.010833  0.061667  0.257500  0.220000  0.044167   \n",
       "\n",
       "             neutral    n  \n",
       "fecha                      \n",
       "1945-09-30  0.244074   81  \n",
       "1945-12-31  0.227414  232  \n",
       "1946-03-31  0.096343  175  \n",
       "1946-06-30  0.138994  179  \n",
       "1946-09-30  0.132865  185  \n",
       "...              ...  ...  \n",
       "2020-09-30  0.241127  417  \n",
       "2020-12-31  0.231767  430  \n",
       "2021-03-31  0.225143  453  \n",
       "2021-06-30  0.252452  465  \n",
       "2021-09-30  0.165833   12  \n",
       "\n",
       "[305 rows x 8 columns]"
      ]
     },
     "execution_count": 12,
     "metadata": {},
     "output_type": "execute_result"
    }
   ],
   "source": [
    "trimestral_n"
   ]
  },
  {
   "cell_type": "code",
   "execution_count": 13,
   "metadata": {},
   "outputs": [],
   "source": [
    "pca = PCA(n_components=1)\n",
    "trimestral_n[\"r\"]= pca.fit_transform(trimestral_n[sent])\n",
    "trimestral_n[\"I\"]=trimestral_n[\"r\"]*np.log(trimestral_n[\"n\"])\n",
    "\n",
    "bad=[\"angry\", \"disgust\", \"fear\", \"sad\"]\n",
    "trimestral_n[\"r_bad\"]= pca.fit_transform(trimestral_n[bad])\n",
    "trimestral_n[\"I_bad\"]=trimestral_n[\"r\"]*np.log(trimestral_n[\"n\"])\n",
    "\n",
    "good=[\"happy\", \"surprise\", \"neutral\"]\n",
    "trimestral_n[\"r_good\"]= pca.fit_transform(trimestral_n[good])\n",
    "trimestral_n[\"I_good\"]=trimestral_n[\"r\"]*np.log(trimestral_n[\"n\"])\n",
    "\n",
    "trimestral_n[\"P_bad\"]=(trimestral_n[\"angry\"]+trimestral_n[\"disgust\"]+trimestral_n[\"fear\"]+trimestral_n[\"sad\"])/4\n",
    "trimestral_n[\"P_good\"]=(trimestral_n[\"happy\"]+trimestral_n[\"surprise\"]+trimestral_n[\"neutral\"])/3"
   ]
  },
  {
   "cell_type": "code",
   "execution_count": 14,
   "metadata": {},
   "outputs": [
    {
     "data": {
      "text/plain": [
       "<matplotlib.legend.Legend at 0x211bd0d9fc8>"
      ]
     },
     "execution_count": 14,
     "metadata": {},
     "output_type": "execute_result"
    },
    {
     "data": {
      "image/png": "[encoded data removed]",
      "text/plain": [
       "<Figure size 432x288 with 1 Axes>"
      ]
     },
     "metadata": {
      "needs_background": "light"
     },
     "output_type": "display_data"
    }
   ],
   "source": [
    "plt.plot(trimestral_n[sent])\n",
    "plt.legend(trimestral_n.columns.tolist())"
   ]
  },
  {
   "cell_type": "code",
   "execution_count": 15,
   "metadata": {},
   "outputs": [
    {
     "data": {
      "text/plain": [
       "[<matplotlib.lines.Line2D at 0x211b2e8f888>,\n",
       " <matplotlib.lines.Line2D at 0x211b2eb4948>,\n",
       " <matplotlib.lines.Line2D at 0x211b2eb4d08>]"
      ]
     },
     "execution_count": 15,
     "metadata": {},
     "output_type": "execute_result"
    },
    {
     "data": {
      "image/png": "[encoded data removed]",
      "text/plain": [
       "<Figure size 432x288 with 1 Axes>"
      ]
     },
     "metadata": {
      "needs_background": "light"
     },
     "output_type": "display_data"
    }
   ],
   "source": [
    "sent=[\"I\", \"I_bad\", \"I_good\"]\n",
    "plt.plot(trimestral_n[sent] )"
   ]
  },
  {
   "cell_type": "code",
   "execution_count": 16,
   "metadata": {},
   "outputs": [
    {
     "data": {
      "text/plain": [
       "78806"
      ]
     },
     "execution_count": 16,
     "metadata": {},
     "output_type": "execute_result"
    }
   ],
   "source": [
    "trimestral_n[\"n\"].sum()"
   ]
  },
  {
   "cell_type": "code",
   "execution_count": 17,
   "metadata": {},
   "outputs": [
    {
     "data": {
      "text/html": [
       "<div>\n",
       "<style scoped>\n",
       "    .dataframe tbody tr th:only-of-type {\n",
       "        vertical-align: middle;\n",
       "    }\n",
       "\n",
       "    .dataframe tbody tr th {\n",
       "        vertical-align: top;\n",
       "    }\n",
       "\n",
       "    .dataframe thead th {\n",
       "        text-align: right;\n",
       "    }\n",
       "</style>\n",
       "<table border=\"1\" class=\"dataframe\">\n",
       "  <thead>\n",
       "    <tr style=\"text-align: right;\">\n",
       "      <th></th>\n",
       "      <th>angry</th>\n",
       "      <th>disgust</th>\n",
       "      <th>fear</th>\n",
       "      <th>happy</th>\n",
       "      <th>sad</th>\n",
       "      <th>surprise</th>\n",
       "      <th>neutral</th>\n",
       "      <th>n</th>\n",
       "    </tr>\n",
       "  </thead>\n",
       "  <tbody>\n",
       "    <tr>\n",
       "      <th>count</th>\n",
       "      <td>78806</td>\n",
       "      <td>78806</td>\n",
       "      <td>78806</td>\n",
       "      <td>78806</td>\n",
       "      <td>78806</td>\n",
       "      <td>78806</td>\n",
       "      <td>78806</td>\n",
       "      <td>78806</td>\n",
       "    </tr>\n",
       "    <tr>\n",
       "      <th>mean</th>\n",
       "      <td>0.169398</td>\n",
       "      <td>0.0031207</td>\n",
       "      <td>0.125329</td>\n",
       "      <td>0.257541</td>\n",
       "      <td>0.230994</td>\n",
       "      <td>0.0277655</td>\n",
       "      <td>0.184677</td>\n",
       "      <td>1</td>\n",
       "    </tr>\n",
       "    <tr>\n",
       "      <th>std</th>\n",
       "      <td>0.191883</td>\n",
       "      <td>0.0240594</td>\n",
       "      <td>0.152235</td>\n",
       "      <td>0.301943</td>\n",
       "      <td>0.207246</td>\n",
       "      <td>0.0817598</td>\n",
       "      <td>0.206858</td>\n",
       "      <td>0</td>\n",
       "    </tr>\n",
       "    <tr>\n",
       "      <th>min</th>\n",
       "      <td>0</td>\n",
       "      <td>0</td>\n",
       "      <td>0</td>\n",
       "      <td>0</td>\n",
       "      <td>0</td>\n",
       "      <td>0</td>\n",
       "      <td>0</td>\n",
       "      <td>1</td>\n",
       "    </tr>\n",
       "    <tr>\n",
       "      <th>25%</th>\n",
       "      <td>0.03</td>\n",
       "      <td>0</td>\n",
       "      <td>0.02</td>\n",
       "      <td>0.03</td>\n",
       "      <td>0.06</td>\n",
       "      <td>0</td>\n",
       "      <td>0.03</td>\n",
       "      <td>1</td>\n",
       "    </tr>\n",
       "    <tr>\n",
       "      <th>50%</th>\n",
       "      <td>0.1</td>\n",
       "      <td>0</td>\n",
       "      <td>0.07</td>\n",
       "      <td>0.12</td>\n",
       "      <td>0.17</td>\n",
       "      <td>0.01</td>\n",
       "      <td>0.1</td>\n",
       "      <td>1</td>\n",
       "    </tr>\n",
       "    <tr>\n",
       "      <th>75%</th>\n",
       "      <td>0.24</td>\n",
       "      <td>0</td>\n",
       "      <td>0.17</td>\n",
       "      <td>0.4</td>\n",
       "      <td>0.36</td>\n",
       "      <td>0.02</td>\n",
       "      <td>0.26</td>\n",
       "      <td>1</td>\n",
       "    </tr>\n",
       "    <tr>\n",
       "      <th>max</th>\n",
       "      <td>1</td>\n",
       "      <td>0.94</td>\n",
       "      <td>0.99</td>\n",
       "      <td>1</td>\n",
       "      <td>0.99</td>\n",
       "      <td>1</td>\n",
       "      <td>1</td>\n",
       "      <td>1</td>\n",
       "    </tr>\n",
       "    <tr>\n",
       "      <th>counts</th>\n",
       "      <td>78806</td>\n",
       "      <td>78806</td>\n",
       "      <td>78806</td>\n",
       "      <td>78806</td>\n",
       "      <td>78806</td>\n",
       "      <td>78806</td>\n",
       "      <td>78806</td>\n",
       "      <td>78806</td>\n",
       "    </tr>\n",
       "    <tr>\n",
       "      <th>uniques</th>\n",
       "      <td>101</td>\n",
       "      <td>78</td>\n",
       "      <td>100</td>\n",
       "      <td>101</td>\n",
       "      <td>99</td>\n",
       "      <td>101</td>\n",
       "      <td>101</td>\n",
       "      <td>1</td>\n",
       "    </tr>\n",
       "    <tr>\n",
       "      <th>missing</th>\n",
       "      <td>0</td>\n",
       "      <td>0</td>\n",
       "      <td>0</td>\n",
       "      <td>0</td>\n",
       "      <td>0</td>\n",
       "      <td>0</td>\n",
       "      <td>0</td>\n",
       "      <td>0</td>\n",
       "    </tr>\n",
       "    <tr>\n",
       "      <th>missing_perc</th>\n",
       "      <td>0%</td>\n",
       "      <td>0%</td>\n",
       "      <td>0%</td>\n",
       "      <td>0%</td>\n",
       "      <td>0%</td>\n",
       "      <td>0%</td>\n",
       "      <td>0%</td>\n",
       "      <td>0%</td>\n",
       "    </tr>\n",
       "    <tr>\n",
       "      <th>types</th>\n",
       "      <td>numeric</td>\n",
       "      <td>numeric</td>\n",
       "      <td>numeric</td>\n",
       "      <td>numeric</td>\n",
       "      <td>numeric</td>\n",
       "      <td>numeric</td>\n",
       "      <td>numeric</td>\n",
       "      <td>constant</td>\n",
       "    </tr>\n",
       "  </tbody>\n",
       "</table>\n",
       "</div>"
      ],
      "text/plain": [
       "                 angry    disgust      fear     happy       sad   surprise  \\\n",
       "count            78806      78806     78806     78806     78806      78806   \n",
       "mean          0.169398  0.0031207  0.125329  0.257541  0.230994  0.0277655   \n",
       "std           0.191883  0.0240594  0.152235  0.301943  0.207246  0.0817598   \n",
       "min                  0          0         0         0         0          0   \n",
       "25%               0.03          0      0.02      0.03      0.06          0   \n",
       "50%                0.1          0      0.07      0.12      0.17       0.01   \n",
       "75%               0.24          0      0.17       0.4      0.36       0.02   \n",
       "max                  1       0.94      0.99         1      0.99          1   \n",
       "counts           78806      78806     78806     78806     78806      78806   \n",
       "uniques            101         78       100       101        99        101   \n",
       "missing              0          0         0         0         0          0   \n",
       "missing_perc        0%         0%        0%        0%        0%         0%   \n",
       "types          numeric    numeric   numeric   numeric   numeric    numeric   \n",
       "\n",
       "               neutral         n  \n",
       "count            78806     78806  \n",
       "mean          0.184677         1  \n",
       "std           0.206858         0  \n",
       "min                  0         1  \n",
       "25%               0.03         1  \n",
       "50%                0.1         1  \n",
       "75%               0.26         1  \n",
       "max                  1         1  \n",
       "counts           78806     78806  \n",
       "uniques            101         1  \n",
       "missing              0         0  \n",
       "missing_perc        0%        0%  \n",
       "types          numeric  constant  "
      ]
     },
     "metadata": {},
     "output_type": "display_data"
    }
   ],
   "source": [
    "from pandas_summary import DataFrameSummary\n",
    "vars=[\"angry\",\"disgust\",\"fear\",\"happy\",\"sad\",\"surprise\",\"neutral\", \"n\"]\n",
    "display(DataFrameSummary(df[vars]).summary())"
   ]
  },
  {
   "cell_type": "markdown",
   "metadata": {},
   "source": [
    "# Series Macro"
   ]
  },
  {
   "cell_type": "code",
   "execution_count": 18,
   "metadata": {},
   "outputs": [],
   "source": [
    "gdp_trim=pd.read_csv(\"C:/Users/PC/Clarin/pib_trim_a.csv\", sep=\";\")\n",
    "#gdp_trim=pd.read_csv(\"C:/Users/PC/Clarin/pib_2004.csv\", sep=\";\")"
   ]
  },
  {
   "cell_type": "code",
   "execution_count": 19,
   "metadata": {},
   "outputs": [],
   "source": [
    "#gdp_trim=gdp_trim[20:]"
   ]
  },
  {
   "cell_type": "code",
   "execution_count": 20,
   "metadata": {},
   "outputs": [],
   "source": [
    "trimestral_n = trimestral_n.iloc[237: , :]"
   ]
  },
  {
   "cell_type": "code",
   "execution_count": 21,
   "metadata": {},
   "outputs": [
    {
     "name": "stderr",
     "output_type": "stream",
     "text": [
      "C:\\Users\\PC\\anaconda3\\lib\\site-packages\\ipykernel_launcher.py:1: SettingWithCopyWarning: \n",
      "A value is trying to be set on a copy of a slice from a DataFrame.\n",
      "Try using .loc[row_indexer,col_indexer] = value instead\n",
      "\n",
      "See the caveats in the documentation: https://pandas.pydata.org/pandas-docs/stable/user_guide/indexing.html#returning-a-view-versus-a-copy\n",
      "  \"\"\"Entry point for launching an IPython kernel.\n"
     ]
    }
   ],
   "source": [
    "trimestral_n[\"id\"]=np.arange(trimestral_n.shape[0])+1\n",
    "gdp_trim[\"id\"]=np.arange(gdp_trim.shape[0])+1"
   ]
  },
  {
   "cell_type": "code",
   "execution_count": 22,
   "metadata": {},
   "outputs": [],
   "source": [
    "#trimestral_n=trimestral_n[24:]"
   ]
  },
  {
   "cell_type": "code",
   "execution_count": 23,
   "metadata": {},
   "outputs": [],
   "source": [
    "todo=pd.merge(trimestral_n,gdp_trim, on=\"id\")"
   ]
  },
  {
   "cell_type": "code",
   "execution_count": 24,
   "metadata": {},
   "outputs": [],
   "source": [
    "todo[\"gdp_t1\"]=todo[\"g\"].shift()\n",
    "#todo[\"gdp_t4\"]=todo[\"gdp\"].shift(4)\n",
    "#todo[\"g\"]=(todo[\"gdp\"]/todo[\"gdp_t4\"])-1\n",
    "#todo[\"g_1\"]=todo[\"g\"].shift()\n",
    "todo=todo[1:]\n",
    "todo = todo[:-1]"
   ]
  },
  {
   "cell_type": "code",
   "execution_count": 25,
   "metadata": {},
   "outputs": [
    {
     "name": "stdout",
     "output_type": "stream",
     "text": [
      "angry\n",
      "Pearsons correlation: -0.284\n",
      "p: 0.02401\n",
      "\n",
      "\n",
      "disgust\n",
      "Pearsons correlation: 0.026\n",
      "p: 0.83996\n",
      "\n",
      "\n",
      "fear\n",
      "Pearsons correlation: 0.464\n",
      "p: 0.00013\n",
      "\n",
      "\n",
      "happy\n",
      "Pearsons correlation: -0.410\n",
      "p: 0.00085\n",
      "\n",
      "\n",
      "sad\n",
      "Pearsons correlation: 0.454\n",
      "p: 0.00018\n",
      "\n",
      "\n",
      "surprise\n",
      "Pearsons correlation: 0.259\n",
      "p: 0.04078\n",
      "\n",
      "\n",
      "neutral\n",
      "Pearsons correlation: 0.089\n",
      "p: 0.48945\n",
      "\n",
      "\n"
     ]
    }
   ],
   "source": [
    "from scipy.stats import pearsonr\n",
    "\n",
    "sent = [\"angry\",\"disgust\",\"fear\",\"happy\",\"sad\",\"surprise\",\"neutral\"]\n",
    "for a in sent: \n",
    "    corr, p = pearsonr(todo[a] , todo[\"g\"])\n",
    "    print(a)\n",
    "    print('Pearsons correlation: %.3f' % corr)\n",
    "    print(\"p: %.5f\" % p)\n",
    "    print(\"\\n\")"
   ]
  },
  {
   "cell_type": "code",
   "execution_count": 26,
   "metadata": {},
   "outputs": [
    {
     "name": "stdout",
     "output_type": "stream",
     "text": [
      "angry\n",
      "ADF Statistic: -2.788955\n",
      "p-value: 0.059869\n",
      "\n",
      "\n",
      "disgust\n",
      "ADF Statistic: -3.166543\n",
      "p-value: 0.022005\n",
      "\n",
      "\n",
      "fear\n",
      "ADF Statistic: -4.249620\n",
      "p-value: 0.000542\n",
      "\n",
      "\n",
      "happy\n",
      "ADF Statistic: -1.907119\n",
      "p-value: 0.328719\n",
      "\n",
      "\n",
      "sad\n",
      "ADF Statistic: -1.646176\n",
      "p-value: 0.459035\n",
      "\n",
      "\n",
      "surprise\n",
      "ADF Statistic: -1.027490\n",
      "p-value: 0.743106\n",
      "\n",
      "\n",
      "neutral\n",
      "ADF Statistic: -1.676565\n",
      "p-value: 0.443226\n",
      "\n",
      "\n",
      "I\n",
      "ADF Statistic: -1.664117\n",
      "p-value: 0.449689\n",
      "\n",
      "\n",
      "I_good\n",
      "ADF Statistic: -1.664117\n",
      "p-value: 0.449689\n",
      "\n",
      "\n",
      "I_bad\n",
      "ADF Statistic: -1.664117\n",
      "p-value: 0.449689\n",
      "\n",
      "\n",
      "g\n",
      "ADF Statistic: -1.974715\n",
      "p-value: 0.297769\n",
      "\n",
      "\n"
     ]
    }
   ],
   "source": [
    "from statsmodels.tsa.stattools import adfuller\n",
    "\n",
    "sent = [\"angry\",\"disgust\",\"fear\",\"happy\",\"sad\",\"surprise\",\"neutral\",\"I\" ,\"I_good\" , \"I_bad\", \"g\"]\n",
    "for a in sent:\n",
    "    result= adfuller(todo[a])\n",
    "    print(a)\n",
    "    print('ADF Statistic: %f' % result[0])\n",
    "    print('p-value: %f' % result[1])\n",
    "    print(\"\\n\")"
   ]
  },
  {
   "cell_type": "code",
   "execution_count": 29,
   "metadata": {},
   "outputs": [
    {
     "name": "stdout",
     "output_type": "stream",
     "text": [
      "                                 OLS Regression Results                                \n",
      "=======================================================================================\n",
      "Dep. Variable:                      g   R-squared (uncentered):                   0.627\n",
      "Model:                            OLS   Adj. R-squared (uncentered):              0.615\n",
      "Method:                 Least Squares   F-statistic:                              51.31\n",
      "Date:                Thu, 02 Sep 2021   Prob (F-statistic):                    8.52e-14\n",
      "Time:                        19:45:36   Log-Likelihood:                          114.01\n",
      "No. Observations:                  63   AIC:                                     -224.0\n",
      "Df Residuals:                      61   BIC:                                     -219.7\n",
      "Df Model:                           2                                                  \n",
      "Covariance Type:            nonrobust                                                  \n",
      "==============================================================================\n",
      "                 coef    std err          t      P>|t|      [0.025      0.975]\n",
      "------------------------------------------------------------------------------\n",
      "gdp_t1         0.7648      0.083      9.245      0.000       0.599       0.930\n",
      "sad            0.0229      0.032      0.709      0.481      -0.042       0.088\n",
      "==============================================================================\n",
      "Omnibus:                       14.084   Durbin-Watson:                   1.700\n",
      "Prob(Omnibus):                  0.001   Jarque-Bera (JB):               27.224\n",
      "Skew:                          -0.659   Prob(JB):                     1.23e-06\n",
      "Kurtosis:                       5.938   Cond. No.                         2.78\n",
      "==============================================================================\n",
      "\n",
      "Warnings:\n",
      "[1] Standard Errors assume that the covariance matrix of the errors is correctly specified.\n"
     ]
    }
   ],
   "source": [
    "import statsmodels.api as sm\n",
    "X=[\"gdp_t1\", \"sad\"]\n",
    "\n",
    "X1 = todo[X]\n",
    "y=todo[\"g\"]\n",
    "result = sm.OLS(y, X1).fit()\n",
    "\n",
    "print(result.summary())"
   ]
  }
 ],
 "metadata": {
  "kernelspec": {
   "display_name": "Python 3",
   "language": "python",
   "name": "python3"
  },
  "language_info": {
   "codemirror_mode": {
    "name": "ipython",
    "version": 3
   },
   "file_extension": ".py",
   "mimetype": "text/x-python",
   "name": "python",
   "nbconvert_exporter": "python",
   "pygments_lexer": "ipython3",
   "version": "3.7.6"
  }
 },
 "nbformat": 4,
 "nbformat_minor": 4
}
