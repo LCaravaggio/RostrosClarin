{
  "nbformat": 4,
  "nbformat_minor": 0,
  "metadata": {
    "colab": {
      "name": "Dolar en Tapa.ipynb",
      "provenance": [],
      "authorship_tag": "ABX9TyPvcldBysKrAAheF8ta5NnZ",
      "include_colab_link": true
    },
    "kernelspec": {
      "name": "python3",
      "display_name": "Python 3"
    },
    "language_info": {
      "name": "python"
    }
  },
  "cells": [
    {
      "cell_type": "markdown",
      "metadata": {
        "id": "view-in-github",
        "colab_type": "text"
      },
      "source": [
        "<a href=\"https://colab.research.google.com/github/LCaravaggio/RostrosClarin/blob/main/Dolar_en_Tapa.ipynb\" target=\"_parent\"><img src=\"https://colab.research.google.com/assets/colab-badge.svg\" alt=\"Open In Colab\"/></a>"
      ]
    },
    {
      "cell_type": "code",
      "execution_count": 64,
      "metadata": {
        "id": "aS-7MPbAIdrS"
      },
      "outputs": [],
      "source": [
        "import numpy as np\n",
        "import pandas as pd\n",
        "from os import path\n",
        "from PIL import Image\n",
        "from wordcloud import WordCloud, STOPWORDS, ImageColorGenerator\n",
        "import re\n",
        "\n",
        "import matplotlib.pyplot as plt"
      ]
    },
    {
      "cell_type": "code",
      "source": [
        "names=[\"id\",\"unnamed\", \"file\", \"text\"]\n",
        "df = pd.read_csv(\"/content/Clarin.csv\", encoding=\"latin-1\", sep=\";\", names=names, header=1)\n",
        "df['year'] = df['file'].astype(str).str[0:4]"
      ],
      "metadata": {
        "id": "4lBLDRytJUSJ"
      },
      "execution_count": 131,
      "outputs": []
    },
    {
      "cell_type": "code",
      "source": [
        "years=range(1945,2022)\n",
        "dolares=np.zeros(2022-1945)\n",
        "data={'year': years, 'dolares':dolares}\n",
        "df2=pd.DataFrame(data)"
      ],
      "metadata": {
        "id": "KqFQ0O4CadGU"
      },
      "execution_count": 144,
      "outputs": []
    },
    {
      "cell_type": "code",
      "source": [
        "dol=0\n",
        "tot=0\n",
        "for row in range(0,27077):\n",
        "  dol=0\n",
        "  for a in df.text[row].split():\n",
        "    a.replace(\"|\", \"\")\n",
        "    a.replace(\",\", \"\")\n",
        "    a.replace(\";\", \"\")\n",
        "    a.replace(\"*\", \"\")\n",
        "    a.replace(\"/\", \"\")\n",
        "    a.replace(\"=\", \"\")\n",
        "    a.replace(\"<\", \"\")\n",
        "    a.replace(\"$\", \"\")\n",
        "    a.replace(\"&\", \"\")\n",
        "    a.replace(\"(\", \"\")\n",
        "    a.replace(\")\", \"\")\n",
        "    a.replace(\"!\", \"\")\n",
        "    a.replace(\"%\", \"\")\n",
        "    a.replace(\"@\", \"\")\n",
        "    a.replace(\"ó\", \"o\")\n",
        "    a.replace(\"Ó\", \"O\")\n",
        "    if a==\"dolar\": dol+=1\n",
        "    if a==\"DOLAR\": dol+=1\n",
        "    if a==\"dolares\": dol+=1\n",
        "    if a==\"DOLARES\": dol+=1\n",
        "    \n",
        "    tot+=1\n",
        "  df2.dolares[int(df.year[row])-1945]+=dol\n",
        "\n",
        "\n",
        "print(str(tot))"
      ],
      "metadata": {
        "colab": {
          "base_uri": "https://localhost:8080/"
        },
        "id": "Blpav_AJRjVY",
        "outputId": "9ddf17ec-ce24-4cfa-ec21-31436f997a37"
      },
      "execution_count": 145,
      "outputs": [
        {
          "output_type": "stream",
          "name": "stderr",
          "text": [
            "/usr/local/lib/python3.7/dist-packages/ipykernel_launcher.py:28: SettingWithCopyWarning: \n",
            "A value is trying to be set on a copy of a slice from a DataFrame\n",
            "\n",
            "See the caveats in the documentation: https://pandas.pydata.org/pandas-docs/stable/user_guide/indexing.html#returning-a-view-versus-a-copy\n"
          ]
        },
        {
          "output_type": "stream",
          "name": "stdout",
          "text": [
            "11729781\n"
          ]
        }
      ]
    },
    {
      "cell_type": "code",
      "source": [
        "import matplotlib.pyplot as plt\n",
        "fig = plt.figure()\n",
        "ax = fig.add_axes([0,0,1,1])\n",
        "y = df2.year\n",
        "dolares = df2.dolares\n",
        "ax.bar(y,dolares)\n",
        "plt.title('Aparición de la palabra DOLAR en la tapa de Clarín')\n",
        "plt.show()"
      ],
      "metadata": {
        "colab": {
          "base_uri": "https://localhost:8080/",
          "height": 352
        },
        "id": "g_w3O8H7sDS1",
        "outputId": "96d4b418-da17-4f84-e086-c90e25d428a5"
      },
      "execution_count": 150,
      "outputs": [
        {
          "output_type": "display_data",
          "data": {
            "text/plain": [
              "<Figure size 432x288 with 1 Axes>"
            ],
            "image/png": "[encoded data removed]"
          },
          "metadata": {
            "needs_background": "light"
          }
        }
      ]
    }
  ]
}